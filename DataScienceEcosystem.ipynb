{
 "cells": [
  {
   "cell_type": "markdown",
   "metadata": {},
   "source": [
    "<center>\n",
    "    <img src=\"https://cf-courses-data.s3.us.cloud-object-storage.appdomain.cloud/IBMDeveloperSkillsNetwork-DS0105EN-SkillsNetwork/labs/Module2/images/SN_web_lightmode.png\" width=\"300\" alt=\"cognitiveclass.ai logo\">\n",
    "</center>\n"
   ]
  },
  {
   "cell_type": "markdown",
   "metadata": {},
   "source": [
    "#### Add your code below following the instructions given in the course\n"
   ]
  },
  {
   "cell_type": "markdown",
   "metadata": {},
   "source": [
    "# Data Science Tools and Ecosystem"
   ]
  },
  {
   "cell_type": "markdown",
   "metadata": {},
   "source": [
    "In this notebook, Data Science Tools and Ecosystem are summarized."
   ]
  },
  {
   "cell_type": "markdown",
   "metadata": {
    "tags": []
   },
   "source": [
    "Some of the popular languages that Data Scientists use are:\n",
    "    Some of the popular languages that Data Scientists use are:\n",
    "\n",
    "1. **Python**: Widely used for its simplicity, extensive libraries (such as NumPy, Pandas, and scikit-learn), and versatility in data manipulation, analysis, and machine learning.\n",
    "\n",
    "2. **R**: Known for its statistical capabilities, R is commonly used in data analysis, visualization, and statistical modeling. It has a strong community support for statistical packages.\n",
    "\n",
    "3. **SQL (Structured Query Language)**: Essential for working with relational databases, SQL is used to extract, manipulate, and analyze data stored in databases. Data scientists often use SQL for data retrieval and aggregation.\n",
    "\n",
    "4. **Julia**: A high-performance language for technical computing, Julia is gaining popularity for its speed in numerical and scientific computing tasks.\n",
    "\n",
    "5. **Scala**: With frameworks like Apache Spark using Scala, it has become relevant in big data processing and analysis.\n",
    "\n",
    "6. **MATLAB**: Widely used in academia and industry, MATLAB is known for its numerical computing capabilities and is often used in engineering and scientific research.\n",
    "\n",
    "7. **Java**: While not as common as Python or R, Java is used in big data processing frameworks (like Apache Hadoop) and has applications in enterprise-level data processing.\n",
    "\n",
    "8. **SAS**: A statistical software suite used for advanced analytics, business intelligence, and data management.\n",
    "\n",
    "9. **Go**: Known for its efficiency and simplicity, Go is gaining popularity in certain data engineering tasks.\n",
    "\n"
   ]
  },
  {
   "cell_type": "markdown",
   "metadata": {},
   "source": [
    "Some of the commonly used libraries by Data Scientists include:\n",
    "\n",
    "1. **NumPy**: A fundamental package for scientific computing with Python. It provides support for large, multi-dimensional arrays and matrices, along with mathematical functions to operate on these elements.\n",
    "\n",
    "2. **Pandas**: A powerful library for data manipulation and analysis. It offers data structures like DataFrames, which are efficient for handling structured data, and provides tools for cleaning, aggregating, and transforming data.\n",
    "\n",
    "3. **scikit-learn**: A machine learning library that includes various tools for data mining and data analysis. It is built on NumPy, SciPy, and Matplotlib and supports various supervised and unsupervised learning algorithms.\n",
    "\n",
    "4. **Matplotlib**: A popular 2D plotting library for creating static, animated, and interactive visualizations in Python. It is often used for data visualization and exploration.\n",
    "\n",
    "5. **Seaborn**: Built on top of Matplotlib, Seaborn provides a high-level interface for drawing attractive and informative statistical graphics. It simplifies the process of creating complex visualizations.\n",
    "\n",
    "6. **TensorFlow**: An open-source machine learning framework developed by Google. It is widely used for building and training deep learning models.\n",
    "\n",
    "7. **Keras**: A high-level neural networks API written in Python. Keras acts as an interface for TensorFlow, making it easier to build and experiment with deep learning models.\n",
    "\n",
    "8. **PyTorch**: An open-source deep learning framework known for its dynamic computation graph. It is widely used in research and is popular for its flexibility and ease of use.\n",
    "\n",
    "9. **SciPy**: A library used for scientific and technical computing. It builds on NumPy and provides additional modules for optimization, integration, interpolation, eigenvalue problems, and more.\n",
    "\n",
    "10. **NLTK (Natural Language Toolkit)**: A library for working with human language data. It is used for tasks such as tokenization, stemming, tagging, parsing, and more in natural language processing.\n",
    "\n"
   ]
  },
  {
   "cell_type": "markdown",
   "metadata": {},
   "source": [
    "| Data Science Tools      |\n",
    "|-------------------------|\n",
    "| Jupyter Notebooks       |\n",
    "| RStudio                 |\n",
    "| VS Code with Extensions |\n"
   ]
  },
  {
   "cell_type": "markdown",
   "metadata": {
    "tags": []
   },
   "source": [
    "### Below are a few examples of evaluating arithmetic expressions in Python.\n",
    "\n",
    "In Python, arithmetic expressions are commonly used for mathematical calculations. The following examples demonstrate basic arithmetic operations:\n",
    "\n",
    "1. **Addition:**\n",
    "   ```python\n",
    "   result = 5 + 3\n",
    "   print(result)  # Output: 8\n"
   ]
  },
  {
   "cell_type": "markdown",
   "metadata": {},
   "source": []
  },
  {
   "cell_type": "code",
   "execution_count": 3,
   "metadata": {
    "tags": []
   },
   "outputs": [
    {
     "name": "stdout",
     "output_type": "stream",
     "text": [
      "17\n"
     ]
    }
   ],
   "source": [
    "# This is a simple arithmetic expression to multiply then add integers.\n",
    "result = (3 * 4) + 5\n",
    "print(result)\n"
   ]
  },
  {
   "cell_type": "code",
   "execution_count": 4,
   "metadata": {
    "tags": []
   },
   "outputs": [
    {
     "name": "stdout",
     "output_type": "stream",
     "text": [
      "3.3333333333333335\n"
     ]
    }
   ],
   "source": [
    "# This will convert 200 minutes to hours by dividing by 60.\n",
    "minutes = 200\n",
    "hours = minutes / 60\n",
    "print(hours)\n"
   ]
  },
  {
   "cell_type": "code",
   "execution_count": null,
   "metadata": {},
   "outputs": [],
   "source": []
  }
 ],
 "metadata": {
  "kernelspec": {
   "display_name": "Python",
   "language": "python",
   "name": "conda-env-python-py"
  },
  "language_info": {
   "codemirror_mode": {
    "name": "ipython",
    "version": 3
   },
   "file_extension": ".py",
   "mimetype": "text/x-python",
   "name": "python",
   "nbconvert_exporter": "python",
   "pygments_lexer": "ipython3",
   "version": "3.7.12"
  }
 },
 "nbformat": 4,
 "nbformat_minor": 4
}
